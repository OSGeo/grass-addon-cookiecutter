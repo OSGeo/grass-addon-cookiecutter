{
 "cells": [
  {
   "cell_type": "markdown",
   "metadata": {},
   "source": [
    "# {{ cookiecutter.tool }}\n",
    "\n",
    "This notebook runs the example from {{ cookiecutter.tool }}'s manual page and visualizes the output.\n",
    "\n",
    "## Setup\n",
    "\n",
    "We will be using the NC SPM sample location."
   ]
  },
  {
   "cell_type": "code",
   "execution_count": null,
   "metadata": {},
   "outputs": [],
   "source": [
    "import os\n",
    "import json\n",
    "import subprocess\n",
    "import sys\n",
    "\n",
    "# Ask GRASS where its Python packages are.\n",
    "sys.path.append(\n",
    "    subprocess.check_output([\"grass\", \"--config\", \"python_path\"], text=True).strip()\n",
    ")\n",
    "\n",
    "# Import GRASS packages\n",
    "import grass.script as gs\n",
    "import grass.jupyter as gj\n",
    "\n",
    "# Start GRASS Session\n",
    "gj.init(\"~/data/grassdata/nc_basic_spm_grass7/user1\")"
   ]
  },
  {
   "cell_type": "markdown",
   "metadata": {},
   "source": [
    "## Create example from the tool's documentation"
   ]
  },
  {
   "cell_type": "code",
   "execution_count": null,
   "metadata": {},
   "outputs": [],
   "source": [
    "{{ cookiecutter.__tool }}_input = \"elevation\"\n",
    "{{ cookiecutter.__tool }}_output = \"output\"\n",
    "gs.run_command(\n",
    "    \"{{ cookiecutter.tool }}\",\n",
    "    input={{ cookiecutter.__tool }}_input,\n",
    "    output={{ cookiecutter.__tool }}_output,\n",
    ")"
   ]
  },
  {
   "cell_type": "code",
   "execution_count": null,
   "metadata": {},
   "outputs": [],
   "source": [
    "{{ cookiecutter.__tool }}_map = gj.Map()\n",
    "{{ cookiecutter.__tool }}_map.d_rast(map={{ cookiecutter.__tool }}_output)\n",
    "{{ cookiecutter.__tool }}_map.show()"
   ]
  }
 ],
 "metadata": {
  "language_info": {
   "name": "python",
   "pygments_lexer": "ipython3"
  }
 },
 "nbformat": 4,
 "nbformat_minor": 4
}
